{
 "cells": [
  {
   "cell_type": "code",
   "execution_count": 18,
   "metadata": {},
   "outputs": [],
   "source": [
    "from datetime import datetime, timedelta\n",
    "import requests\n"
   ]
  },
  {
   "cell_type": "code",
   "execution_count": 12,
   "metadata": {},
   "outputs": [],
   "source": [
    "url_countries = f\"https://apiv3.apifootball.com/?action=get_countries&APIkey={API_TOKEN}\"\n",
    "COUNTRY_ID    = 27 #Brasil"
   ]
  },
  {
   "cell_type": "code",
   "execution_count": 13,
   "metadata": {},
   "outputs": [],
   "source": [
    "url_competicoes = f\"https://apiv3.apifootball.com/?action=get_leagues&country_id={COUNTRY_ID}&APIkey={API_TOKEN}\"\n",
    "LEAGUE_ID = 99 #Serie A\n"
   ]
  },
  {
   "cell_type": "code",
   "execution_count": 14,
   "metadata": {},
   "outputs": [],
   "source": [
    "INICIO = '2024-07-01'\n",
    "FIM    = '2024-08-01'\n",
    "url_event = f'https://apiv3.apifootball.com/?action=get_events&from={INICIO}&to={FIM}&league_id={LEAGUE_ID}&APIkey={API_TOKEN}'"
   ]
  },
  {
   "cell_type": "code",
   "execution_count": 15,
   "metadata": {},
   "outputs": [],
   "source": [
    "def get_stats(match_id):\n",
    "    url_stats = f'https://apiv3.apifootball.com/?action=get_statistics&match_id={match_id}&APIkey={API_TOKEN}'\n",
    "    response  = requests.get(url_stats)\n",
    "    return response\n",
    "\n",
    "def get_odds(match_id):\n",
    "    url_odds  = f'https://apiv3.apifootball.com/?action=get_odds&from={INICIO}&to={FIM}&match_id={match_id}&APIkey={API_TOKEN}'\n",
    "    response  = requests.get(url_odds)\n",
    "    return response\n",
    "\n",
    "def get_head2head(home_team_id, away_team_id):\n",
    "    url_head2head = f\"https://apiv3.apifootball.com/?action=get_H2H&firstTeamId={home_team_id}&secondTeamId={away_team_id}&APIkey={API_TOKEN}\"\n",
    "    response  = requests.get(url_head2head)\n",
    "    return response\n",
    "\n",
    "def get_predictions(match_id):\n",
    "    url_predictions = f\"https://apiv3.apifootball.com/?action=get_predictions&from={INICIO}&to={FIM}&match_id={match_id}&APIkey={API_TOKEN}\"\n",
    "    response  = requests.get(url_predictions)\n",
    "    return response\n",
    "\n",
    "\n",
    "def create_slug(key, data):\n",
    "    key           = key.replace('/','-')\n",
    "    completion    = f\"{data['league_year']}-{data['match_hometeam_name']}-{data['match_awayteam_name']}\"\n",
    "    complete_path = slugify(key.replace('z','s') +'-'+completion)\n",
    "    return complete_path "
   ]
  },
  {
   "cell_type": "code",
   "execution_count": 16,
   "metadata": {},
   "outputs": [],
   "source": [
    "def fix_timezone(data):\n",
    "    data_completa = data['match_date'] + ' ' + data['match_time']\n",
    "    date_format   = '%Y-%m-%d %H:%M'\n",
    "    date_obj      = datetime.strptime(data_completa, date_format)\n",
    "    new_date      = date_obj - timedelta(hours=5)\n",
    "    str_date      = new_date.strftime(date_format)\n",
    "    match_date    = str_date.split()[0]\n",
    "    match_time    = str_date.split()[1]\n",
    "    data['datetime_match'] = str_date\n",
    "    data['match_date']     = match_date\n",
    "    data['match_time']     = match_time\n",
    "    return data\n",
    "    \n",
    "    "
   ]
  },
  {
   "cell_type": "code",
   "execution_count": 20,
   "metadata": {},
   "outputs": [
    {
     "name": "stdout",
     "output_type": "stream",
     "text": [
      "{'error': 404, 'message': 'Authentification failed!'}\n"
     ]
    },
    {
     "ename": "TypeError",
     "evalue": "string indices must be integers",
     "output_type": "error",
     "traceback": [
      "\u001b[1;31m---------------------------------------------------------------------------\u001b[0m",
      "\u001b[1;31mTypeError\u001b[0m                                 Traceback (most recent call last)",
      "Cell \u001b[1;32mIn[20], line 4\u001b[0m\n\u001b[0;32m      2\u001b[0m matches      \u001b[38;5;241m=\u001b[39m response\u001b[38;5;241m.\u001b[39mjson()\n\u001b[0;32m      3\u001b[0m \u001b[38;5;28mprint\u001b[39m(matches)\n\u001b[1;32m----> 4\u001b[0m next_matches \u001b[38;5;241m=\u001b[39m [x \u001b[38;5;28;01mfor\u001b[39;00m x \u001b[38;5;129;01min\u001b[39;00m matches \u001b[38;5;28;01mif\u001b[39;00m x[\u001b[38;5;124m'\u001b[39m\u001b[38;5;124mmatch_status\u001b[39m\u001b[38;5;124m'\u001b[39m] \u001b[38;5;129;01mnot\u001b[39;00m \u001b[38;5;129;01min\u001b[39;00m [\u001b[38;5;124m'\u001b[39m\u001b[38;5;124mFinished\u001b[39m\u001b[38;5;124m'\u001b[39m, \u001b[38;5;124m'\u001b[39m\u001b[38;5;124mPostponed\u001b[39m\u001b[38;5;124m'\u001b[39m]]\n",
      "Cell \u001b[1;32mIn[20], line 4\u001b[0m, in \u001b[0;36m<listcomp>\u001b[1;34m(.0)\u001b[0m\n\u001b[0;32m      2\u001b[0m matches      \u001b[38;5;241m=\u001b[39m response\u001b[38;5;241m.\u001b[39mjson()\n\u001b[0;32m      3\u001b[0m \u001b[38;5;28mprint\u001b[39m(matches)\n\u001b[1;32m----> 4\u001b[0m next_matches \u001b[38;5;241m=\u001b[39m [x \u001b[38;5;28;01mfor\u001b[39;00m x \u001b[38;5;129;01min\u001b[39;00m matches \u001b[38;5;28;01mif\u001b[39;00m \u001b[43mx\u001b[49m\u001b[43m[\u001b[49m\u001b[38;5;124;43m'\u001b[39;49m\u001b[38;5;124;43mmatch_status\u001b[39;49m\u001b[38;5;124;43m'\u001b[39;49m\u001b[43m]\u001b[49m \u001b[38;5;129;01mnot\u001b[39;00m \u001b[38;5;129;01min\u001b[39;00m [\u001b[38;5;124m'\u001b[39m\u001b[38;5;124mFinished\u001b[39m\u001b[38;5;124m'\u001b[39m, \u001b[38;5;124m'\u001b[39m\u001b[38;5;124mPostponed\u001b[39m\u001b[38;5;124m'\u001b[39m]]\n",
      "\u001b[1;31mTypeError\u001b[0m: string indices must be integers"
     ]
    }
   ],
   "source": [
    "response     = requests.get(url_event)\n",
    "matches      = response.json()\n",
    "print(matches)\n",
    "next_matches = [x for x in matches if x['match_status'] not in ['Finished', 'Postponed']]"
   ]
  },
  {
   "cell_type": "code",
   "execution_count": 7,
   "metadata": {},
   "outputs": [
    {
     "ename": "NameError",
     "evalue": "name 'next_matches' is not defined",
     "output_type": "error",
     "traceback": [
      "\u001b[1;31m---------------------------------------------------------------------------\u001b[0m",
      "\u001b[1;31mNameError\u001b[0m                                 Traceback (most recent call last)",
      "Cell \u001b[1;32mIn[7], line 2\u001b[0m\n\u001b[0;32m      1\u001b[0m data_cache \u001b[38;5;241m=\u001b[39m {}\n\u001b[1;32m----> 2\u001b[0m \u001b[38;5;28;01mfor\u001b[39;00m match \u001b[38;5;129;01min\u001b[39;00m \u001b[43mnext_matches\u001b[49m:\n\u001b[0;32m      3\u001b[0m     country   \u001b[38;5;241m=\u001b[39m slugify(match[\u001b[38;5;124m'\u001b[39m\u001b[38;5;124mcountry_name\u001b[39m\u001b[38;5;124m'\u001b[39m])\n\u001b[0;32m      4\u001b[0m     league    \u001b[38;5;241m=\u001b[39m slugify(match[\u001b[38;5;124m'\u001b[39m\u001b[38;5;124mleague_name\u001b[39m\u001b[38;5;124m'\u001b[39m])\n",
      "\u001b[1;31mNameError\u001b[0m: name 'next_matches' is not defined"
     ]
    }
   ],
   "source": [
    "data_cache = {}\n",
    "for match in next_matches:\n",
    "    country   = slugify(match['country_name'])\n",
    "    league    = slugify(match['league_name'])\n",
    "    path_data = f'{country}/{league}'\n",
    "    match     = fix_timezone(match)\n",
    "    match['url_match'] = create_slug(path_data, match)\n",
    "    if match['match_date'] in data_cache:\n",
    "        if path_data in data_cache[match['match_date']]:\n",
    "            data_cache[match['match_date']][path_data].append(match)\n",
    "        else:\n",
    "            data_cache[match['match_date']].update({path_data : [match]})\n",
    "    else:\n",
    "        data_cache[match['match_date']] = {path_data : [match]}"
   ]
  },
  {
   "cell_type": "code",
   "execution_count": 8,
   "metadata": {},
   "outputs": [
    {
     "ename": "TypeError",
     "evalue": "__init__() missing 4 required positional arguments: 'host', 'port', 'channels', and 'service_name'",
     "output_type": "error",
     "traceback": [
      "\u001b[1;31m---------------------------------------------------------------------------\u001b[0m",
      "\u001b[1;31mTypeError\u001b[0m                                 Traceback (most recent call last)",
      "Cell \u001b[1;32mIn[8], line 1\u001b[0m\n\u001b[1;32m----> 1\u001b[0m redisdb \u001b[38;5;241m=\u001b[39m \u001b[43mRedisConnector\u001b[49m\u001b[43m(\u001b[49m\u001b[43m)\u001b[49m\n",
      "\u001b[1;31mTypeError\u001b[0m: __init__() missing 4 required positional arguments: 'host', 'port', 'channels', and 'service_name'"
     ]
    }
   ],
   "source": [
    "redisdb = RedisConnector()"
   ]
  },
  {
   "cell_type": "code",
   "execution_count": 11,
   "metadata": {},
   "outputs": [],
   "source": [
    "for data, competicoes in data_cache.items():\n",
    "    for competicao, matches in competicoes.items():\n",
    "        complete_path = f'{competicao}/matches/{data}'\n",
    "        redisdb.set(complete_path, matches)"
   ]
  },
  {
   "cell_type": "code",
   "execution_count": 12,
   "metadata": {},
   "outputs": [],
   "source": [
    "all_data  = redisdb.all('/')[0]\n",
    "dict_data = {}\n",
    "for key, value in all_data.items():\n",
    "    chave   = key.decode(\"utf-8\")\n",
    "    momment = key.decode(\"utf-8\").split('/')[-1]\n",
    "    if momment not in data_cache.keys() and 'macthes' in chave:\n",
    "        redisdb.delete(chave)"
   ]
  },
  {
   "cell_type": "code",
   "execution_count": 13,
   "metadata": {},
   "outputs": [],
   "source": [
    "for data, competicoes in data_cache.items():\n",
    "    for competicao, matches in competicoes.items():\n",
    "        for match in matches:\n",
    "            stats = get_stats(match['match_id'])\n",
    "            match['stats'] = stats.json()\n",
    "            \n",
    "            odds  = get_odds(match['match_id'])\n",
    "            match['odds'] = odds.json()\n",
    "            \n",
    "            h2h   = get_head2head(match['match_hometeam_id'], match['match_awayteam_id'])\n",
    "            match['h2h'] = h2h.json()\n",
    "            \n",
    "            pred  = get_predictions(match['match_id'])\n",
    "            match['pred'] = pred.json()\n",
    "            \n",
    "            slug_path     = create_slug(competicao, match)\n",
    "            complete_path = f\"{competicao}/{slug_path}\"\n",
    "            redisdb.set(complete_path, match)"
   ]
  },
  {
   "cell_type": "code",
   "execution_count": null,
   "metadata": {},
   "outputs": [],
   "source": []
  }
 ],
 "metadata": {
  "kernelspec": {
   "display_name": ".oddsgarden",
   "language": "python",
   "name": "python3"
  },
  "language_info": {
   "codemirror_mode": {
    "name": "ipython",
    "version": 3
   },
   "file_extension": ".py",
   "mimetype": "text/x-python",
   "name": "python",
   "nbconvert_exporter": "python",
   "pygments_lexer": "ipython3",
   "version": "3.9.18"
  },
  "orig_nbformat": 4
 },
 "nbformat": 4,
 "nbformat_minor": 2
}
