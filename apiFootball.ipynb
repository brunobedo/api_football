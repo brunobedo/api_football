{
 "cells": [
  {
   "cell_type": "code",
   "execution_count": null,
   "metadata": {},
   "outputs": [
    {
     "ename": "",
     "evalue": "",
     "output_type": "error",
     "traceback": [
      "\u001b[1;31mFailed to start the Kernel. \n",
      "\u001b[1;31mAttributeError: partially initialized module 'tokenize' has no attribute 'Name' (most likely due to a circular import). \n",
      "\u001b[1;31mView Jupyter <a href='command:jupyter.viewOutput'>log</a> for further details."
     ]
    }
   ],
   "source": [
    "import requests\n",
    "import pandas as pd \n",
    "import numpy as np"
   ]
  },
  {
   "cell_type": "code",
   "execution_count": null,
   "metadata": {},
   "outputs": [
    {
     "ename": "",
     "evalue": "",
     "output_type": "error",
     "traceback": [
      "\u001b[1;31mThe file 'token.py' seems to be overriding built in modules and interfering with the startup of the kernel. Consider renaming the file and starting the kernel again.\n",
      "\u001b[1;31mClick <a href='https://aka.ms/kernelFailuresOverridingBuiltInModules'>here</a> for more info."
     ]
    }
   ],
   "source": []
  },
  {
   "cell_type": "code",
   "execution_count": 4,
   "metadata": {},
   "outputs": [],
   "source": [
    "def api_request(method, url, headers=None, params=None, payload=None):\n",
    "    headers =   {'x-rapidapi-key': '413171104bf7e1e93c7b392251dcb7b9',\n",
    "                'x-rapidapi-host': 'v3.football.api-sports.io'\n",
    "                }\n",
    "    try:\n",
    "        # Fazer a requisição à API\n",
    "        response = requests.request(method, url, headers=headers, params=params, data=payload)\n",
    "\n",
    "        # Verificar se a requisição foi bem-sucedida\n",
    "        if response.status_code == 200:\n",
    "            try:\n",
    "                # Tentar retornar a resposta como JSON\n",
    "                return response.json()\n",
    "            except ValueError:\n",
    "                # Se a resposta não for JSON, retornar como texto\n",
    "                return response.text\n",
    "        else:\n",
    "            # Retornar o código de status e o conteúdo da resposta em caso de erro\n",
    "            return f\"Erro {response.status_code}: {response.text}\"\n",
    "\n",
    "    except requests.RequestException as e:\n",
    "        # Capturar e exibir exceções de requisições\n",
    "        return f\"Erro na requisição: {str(e)}\""
   ]
  },
  {
   "cell_type": "code",
   "execution_count": 150,
   "metadata": {},
   "outputs": [],
   "source": [
    "def get_edicoes(id=71): \n",
    "    url_base = \"https://v3.football.api-sports.io/\"\n",
    "    url = f'{url_base}/leagues/seasons'\n",
    "    response = api_request('GET', url)\n",
    "    return response['response']"
   ]
  },
  {
   "cell_type": "code",
   "execution_count": 5,
   "metadata": {},
   "outputs": [],
   "source": [
    "INICIO = '2024-07-01'\n",
    "FIM    = '2024-08-01'\n",
    "LEAGUE_ID = 71\n",
    "url_event = f'https://apiv3.apifootball.com/?action=get_events&from={INICIO}&to={FIM}&league_id={LEAGUE_ID}&APIkey={API_TOKEN}'\n",
    "response = api_request('GET', url_event)"
   ]
  },
  {
   "cell_type": "code",
   "execution_count": 6,
   "metadata": {},
   "outputs": [
    {
     "data": {
      "text/plain": [
       "{'error': 404, 'message': 'Authentification failed!'}"
      ]
     },
     "execution_count": 6,
     "metadata": {},
     "output_type": "execute_result"
    }
   ],
   "source": [
    "response"
   ]
  }
 ],
 "metadata": {
  "kernelspec": {
   "display_name": "brunobedo",
   "language": "python",
   "name": "python3"
  },
  "language_info": {
   "codemirror_mode": {
    "name": "ipython",
    "version": 3
   },
   "file_extension": ".py",
   "mimetype": "text/x-python",
   "name": "python",
   "nbconvert_exporter": "python",
   "pygments_lexer": "ipython3",
   "version": "3.9.18"
  }
 },
 "nbformat": 4,
 "nbformat_minor": 2
}
